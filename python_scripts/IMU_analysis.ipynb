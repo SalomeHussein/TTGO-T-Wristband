{
 "cells": [
  {
   "cell_type": "code",
   "execution_count": 4,
   "metadata": {
    "collapsed": true
   },
   "outputs": [],
   "source": [
    "import pandas as pd\n",
    "import numpy as np\n",
    "import seaborn as sns\n",
    "from datetime import datetime as dt\n"
   ]
  },
  {
   "cell_type": "code",
   "execution_count": 10,
   "outputs": [
    {
     "name": "stdout",
     "output_type": "stream",
     "text": [
      "            time  marker   data_1   data_2    data_3\n",
      "0   1.665276e+09       1  -020704   005737   -009267\n",
      "1   1.665276e+09       1  -020699   005746   -009333\n",
      "2   1.665276e+09       1  -020699   005746   -009333\n",
      "3   1.665276e+09       1  -020699   005746   -009333\n",
      "4   1.665276e+09       1  -020699   005746   -009333\n",
      "5   1.665276e+09       1  -020699   005746   -009333\n",
      "6   1.665276e+09       1  -020734   005747   -009273\n",
      "7   1.665276e+09       1  -020734   005747   -009273\n",
      "8   1.665276e+09       1  -020734   005747   -009273\n",
      "9   1.665276e+09       1  -020704   005737   -009267\n",
      "10  1.665276e+09       1  -020704   005737   -009267\n",
      "11  1.665276e+09       1  -020734   005747   -009273\n",
      "12  1.665276e+09       1  -020734   005747   -009273\n",
      "13  1.665276e+09       1  -020745   005646   -009127\n",
      "14  1.665276e+09       1  -020745   005646   -009127\n",
      "15  1.665276e+09       1  -020745   005646   -009127\n",
      "16  1.665276e+09       1  -020745   005646   -009127\n",
      "17  1.665276e+09       1  -020745   005646   -009127\n",
      "18  1.665276e+09       1  -020672   005508   -009079\n",
      "19  1.665276e+09       1  -020672   005508   -009079\n"
     ]
    }
   ],
   "source": [
    "imu_df = pd.read_csv('C:\\PlatformIOProjects\\TTGO-T-Wristband\\data\\IMUdata_09102022_114745.csv')\n",
    "print(imu_df.head(n=10))"
   ],
   "metadata": {
    "collapsed": false,
    "pycharm": {
     "name": "#%%\n"
    }
   }
  },
  {
   "cell_type": "code",
   "execution_count": 9,
   "outputs": [
    {
     "name": "stdout",
     "output_type": "stream",
     "text": [
      "                            time  marker   data_1   data_2    data_3\n",
      "0  1970-01-01 00:00:01.665276465       1  -020704   005737   -009267\n",
      "1  1970-01-01 00:00:01.665276465       1  -020699   005746   -009333\n",
      "2  1970-01-01 00:00:01.665276465       1  -020699   005746   -009333\n",
      "3  1970-01-01 00:00:01.665276465       1  -020699   005746   -009333\n",
      "4  1970-01-01 00:00:01.665276465       1  -020699   005746   -009333\n",
      "5  1970-01-01 00:00:01.665276465       1  -020699   005746   -009333\n",
      "6  1970-01-01 00:00:01.665276465       1  -020734   005747   -009273\n",
      "7  1970-01-01 00:00:01.665276465       1  -020734   005747   -009273\n",
      "8  1970-01-01 00:00:01.665276465       1  -020734   005747   -009273\n",
      "9  1970-01-01 00:00:01.665276465       1  -020704   005737   -009267\n",
      "10 1970-01-01 00:00:01.665276465       1  -020704   005737   -009267\n",
      "11 1970-01-01 00:00:01.665276465       1  -020734   005747   -009273\n",
      "12 1970-01-01 00:00:01.665276465       1  -020734   005747   -009273\n",
      "13 1970-01-01 00:00:01.665276465       1  -020745   005646   -009127\n",
      "14 1970-01-01 00:00:01.665276465       1  -020745   005646   -009127\n",
      "15 1970-01-01 00:00:01.665276465       1  -020745   005646   -009127\n",
      "16 1970-01-01 00:00:01.665276465       1  -020745   005646   -009127\n",
      "17 1970-01-01 00:00:01.665276465       1  -020745   005646   -009127\n",
      "18 1970-01-01 00:00:01.665276465       1  -020672   005508   -009079\n",
      "19 1970-01-01 00:00:01.665276465       1  -020672   005508   -009079\n"
     ]
    }
   ],
   "source": [
    "imu_df['time']= pd.to_datetime(imu_df['time'])\n",
    "print(imu_df.head(n=10))"
   ],
   "metadata": {
    "collapsed": false,
    "pycharm": {
     "name": "#%%\n"
    }
   }
  },
  {
   "cell_type": "code",
   "execution_count": 35,
   "outputs": [
    {
     "name": "stdout",
     "output_type": "stream",
     "text": [
      "No of keyboard tags: 17\n",
      "No of logs: 0\n",
      "No of data entries: 1423779\n"
     ]
    }
   ],
   "source": [
    "print(f\"No of keyboard tags: {len(imu_df[imu_df['marker']==2])}\")\n",
    "print(f\"No of logs: {len(imu_df[imu_df['marker']==0])}\")\n",
    "print(f\"No of data entries: {len(imu_df[imu_df['marker']==1])}\")\n"
   ],
   "metadata": {
    "collapsed": false,
    "pycharm": {
     "name": "#%%\n"
    }
   }
  },
  {
   "cell_type": "code",
   "execution_count": 12,
   "outputs": [
    {
     "name": "stdout",
     "output_type": "stream",
     "text": [
      "                 time  marker data_1 data_2 data_3\n",
      "100088   1.665277e+09       2      t    NaN    NaN\n",
      "267559   1.665277e+09       2      h    NaN    NaN\n",
      "370245   1.665277e+09       2      d    NaN    NaN\n",
      "438456   1.665277e+09       2      w    NaN    NaN\n",
      "457035   1.665277e+09       2      e    NaN    NaN\n",
      "711040   1.665277e+09       2      t    NaN    NaN\n",
      "726365   1.665277e+09       2      s    NaN    NaN\n",
      "732571   1.665277e+09       2      w    NaN    NaN\n",
      "767199   1.665277e+09       2      d    NaN    NaN\n",
      "847578   1.665278e+09       2      w    NaN    NaN\n",
      "968681   1.665278e+09       2      w    NaN    NaN\n",
      "986143   1.665278e+09       2      t    NaN    NaN\n",
      "994068   1.665278e+09       2      i    NaN    NaN\n",
      "1256605  1.665278e+09       2      d    NaN    NaN\n",
      "1318910  1.665278e+09       2      t    NaN    NaN\n",
      "1356915  1.665278e+09       2      s    NaN    NaN\n",
      "1423795  1.665278e+09       2      s    NaN    NaN\n"
     ]
    }
   ],
   "source": [
    "print(imu_df[imu_df['marker']==2])"
   ],
   "metadata": {
    "collapsed": false,
    "pycharm": {
     "name": "#%%\n"
    }
   }
  },
  {
   "cell_type": "code",
   "execution_count": 118,
   "outputs": [
    {
     "name": "stdout",
     "output_type": "stream",
     "text": [
      "   imu_df_key          time  marker label\n",
      "0      100088  1.665277e+09       2     t\n",
      "1      267559  1.665277e+09       2     h\n",
      "2      370245  1.665277e+09       2     d\n",
      "3      438456  1.665277e+09       2     w\n",
      "4      457035  1.665277e+09       2     e\n",
      "Set of unique labels: ['d' 'e' 'h' 'i' 's' 't' 'w']\n",
      "d: 3\n",
      "e: 1\n",
      "h: 1\n",
      "i: 1\n",
      "s: 3\n",
      "t: 4\n",
      "w: 4\n"
     ]
    }
   ],
   "source": [
    "marker_df = imu_df[imu_df['marker']==2].reset_index()\n",
    "marker_df=marker_df.rename(columns={'index':'imu_df_key', 'data_1':'label'})\n",
    "marker_df= marker_df.drop(['data_2', 'data_3'], axis=1)\n",
    "print(marker_df.head())\n",
    "print(f\"Set of unique labels: {np.unique(marker_df['label'])}\")\n",
    "for l in np.unique(marker_df['label']):\n",
    "    print(f\"{l}: {len(marker_df[marker_df['label']==l])}\")"
   ],
   "metadata": {
    "collapsed": false,
    "pycharm": {
     "name": "#%%\n"
    }
   }
  },
  {
   "cell_type": "code",
   "execution_count": 78,
   "outputs": [
    {
     "name": "stdout",
     "output_type": "stream",
     "text": [
      "         imu_df_key          time  marker label\n",
      "index                                          \n",
      "100087       100088  1.665277e+09       2     t\n",
      "267558       267559  1.665277e+09       2     h\n",
      "370244       370245  1.665277e+09       2     d\n",
      "438455       438456  1.665277e+09       2     w\n",
      "457034       457035  1.665277e+09       2     e\n",
      "711039       711040  1.665277e+09       2     t\n",
      "726364       726365  1.665277e+09       2     s\n",
      "732570       732571  1.665277e+09       2     w\n",
      "767198       767199  1.665277e+09       2     d\n",
      "847577       847578  1.665278e+09       2     w\n",
      "968680       968681  1.665278e+09       2     w\n",
      "986142       986143  1.665278e+09       2     t\n",
      "994067       994068  1.665278e+09       2     i\n",
      "1256604     1256605  1.665278e+09       2     d\n",
      "1318909     1318910  1.665278e+09       2     t\n",
      "1356914     1356915  1.665278e+09       2     s\n",
      "1423794     1423795  1.665278e+09       2     s\n",
      "             index          time  marker   data_1    data_2    data_3 label\n",
      "100087.0    100087  1.665277e+09       1  -021548   -007435   -008941     t\n",
      "711039.0    711039  1.665277e+09       1  -025437   -007356   -010212     t\n",
      "986142.0    986142  1.665278e+09       1  -032768   -004857   -001411     t\n",
      "1318909.0  1318909  1.665278e+09       1  -032768   -006602    002212     t\n",
      "index       int64\n",
      "time      float64\n",
      "marker      int64\n",
      "data_1     object\n",
      "data_2     object\n",
      "data_3     object\n",
      "label      object\n",
      "dtype: object\n"
     ]
    }
   ],
   "source": [
    "marker_df['index'] = marker_df['imu_df_key']-1\n",
    "marker_df=marker_df.set_index('index')\n",
    "print(marker_df)\n",
    "label_imu=pd.merge(imu_df[imu_df['marker']==1],marker_df['label'],how='left', left_index=True, right_on='index')\n",
    "print(label_imu[label_imu['label']=='t'])\n",
    "print(label_imu.dtypes)"
   ],
   "metadata": {
    "collapsed": false,
    "pycharm": {
     "name": "#%%\n"
    }
   }
  },
  {
   "cell_type": "code",
   "execution_count": 116,
   "outputs": [
    {
     "name": "stdout",
     "output_type": "stream",
     "text": [
      "Talking entries: 328809\n",
      "Walking entries: 191768\n",
      "Drawing entries: 210892\n"
     ]
    }
   ],
   "source": [
    "label_imu['label']=label_imu['label'].replace('NaN', np.nan).ffill()\n",
    "label_imu['label']=label_imu['label'].bfill()\n",
    "label_imu['data_1']=pd.to_numeric(label_imu['data_1'], errors='coerce').astype(float)\n",
    "label_imu['data_2']=pd.to_numeric(label_imu['data_2'], errors='coerce').astype(float)\n",
    "label_imu['data_3']=pd.to_numeric(label_imu['data_3'], errors='coerce').astype(float)\n",
    "print(f\"Talking entries: {len(label_imu[label_imu['label']=='t'])}\")\n",
    "print(f\"Walking entries: {len(label_imu[label_imu['label']=='w'])}\")\n",
    "print(f\"Drawing entries: {len(label_imu[label_imu['label']=='d'])}\")\n",
    "# label_imu['label']=label_imu['label'].apply(lambda x: pd.to_numeric(x, errors='coerce')).ffill()\n",
    "# label_imu=label_imu.ffill()\n",
    "# print(label_imu.iloc[100087:100097])\n"
   ],
   "metadata": {
    "collapsed": false,
    "pycharm": {
     "name": "#%%\n"
    }
   }
  },
  {
   "cell_type": "code",
   "execution_count": 130,
   "outputs": [
    {
     "name": "stdout",
     "output_type": "stream",
     "text": [
      "-32768.0\n",
      "           index          time  marker   data_1  data_2   data_3 label  diff\n",
      "370244.0  370244  1.665277e+09       1 -24412.0 -5798.0 -10705.0     d   NaN\n",
      "NaN       370246  1.665277e+09       1 -24412.0 -5798.0 -10705.0     d   2.0\n",
      "NaN       370247  1.665277e+09       1 -24412.0 -5798.0 -10705.0     d   1.0\n",
      "NaN       370248  1.665277e+09       1 -24472.0 -5683.0 -10774.0     d   1.0\n",
      "NaN       370249  1.665277e+09       1 -24472.0 -5683.0 -10774.0     d   1.0\n",
      "767198.0      767198\n",
      "1256604.0    1256604\n",
      "Name: index, dtype: int64\n"
     ]
    },
    {
     "name": "stderr",
     "output_type": "stream",
     "text": [
      "C:\\Users\\Salomé\\AppData\\Local\\Temp\\ipykernel_18140\\2802093669.py:7: SettingWithCopyWarning: \n",
      "A value is trying to be set on a copy of a slice from a DataFrame.\n",
      "Try using .loc[row_indexer,col_indexer] = value instead\n",
      "\n",
      "See the caveats in the documentation: https://pandas.pydata.org/pandas-docs/stable/user_guide/indexing.html#returning-a-view-versus-a-copy\n",
      "  draw_df['diff'] = draw_df['index'].diff()\n"
     ]
    },
    {
     "data": {
      "text/plain": "<AxesSubplot:xlabel='time'>"
     },
     "execution_count": 130,
     "metadata": {},
     "output_type": "execute_result"
    },
    {
     "data": {
      "text/plain": "<Figure size 640x480 with 1 Axes>",
      "image/png": "[encoded data removed]"
     },
     "metadata": {},
     "output_type": "display_data"
    },
    {
     "data": {
      "text/plain": "<Figure size 640x480 with 1 Axes>",
      "image/png": "[encoded data removed]"
     },
     "metadata": {},
     "output_type": "display_data"
    }
   ],
   "source": [
    "draw_df =label_imu[label_imu['label']=='d']\n",
    "\n",
    "print(np.min(draw_df['data_1']))\n",
    "\n",
    "\n",
    "draw_df.plot('time', 'data_1')\n",
    "draw_df['diff'] = draw_df['index'].diff()\n",
    "print(draw_df.head())\n",
    "idx_change = draw_df['index'][draw_df['diff']>10]\n",
    "print(idx_change)\n",
    "draw_df_subset = draw_df[idx_change.iloc[0]:idx_change.iloc[1]]\n",
    "draw_df_subset.plot('time', 'data_1')"
   ],
   "metadata": {
    "collapsed": false,
    "pycharm": {
     "name": "#%%\n"
    }
   }
  },
  {
   "cell_type": "code",
   "execution_count": 113,
   "outputs": [
    {
     "name": "stdout",
     "output_type": "stream",
     "text": [
      "## 1000: vbat: 3.718\n",
      "-32768.0\n"
     ]
    },
    {
     "name": "stderr",
     "output_type": "stream",
     "text": [
      "C:\\Users\\Salomé\\AppData\\Local\\Temp\\ipykernel_18140\\341242479.py:2: SettingWithCopyWarning: \n",
      "A value is trying to be set on a copy of a slice from a DataFrame.\n",
      "Try using .loc[row_indexer,col_indexer] = value instead\n",
      "\n",
      "See the caveats in the documentation: https://pandas.pydata.org/pandas-docs/stable/user_guide/indexing.html#returning-a-view-versus-a-copy\n",
      "  draw_df['data_1'] = pd.to_numeric(draw_df['data_1'], errors='coerce')\n"
     ]
    }
   ],
   "source": [
    "print(np.min(draw_df['data_1']))\n",
    "draw_df['data_1'] = pd.to_numeric(draw_df['data_1'], errors='coerce')\n",
    "print(np.min(draw_df['data_1']))\n",
    "# draw_df['data_1'].astype('float')"
   ],
   "metadata": {
    "collapsed": false,
    "pycharm": {
     "name": "#%%\n"
    }
   }
  },
  {
   "cell_type": "code",
   "execution_count": null,
   "outputs": [],
   "source": [],
   "metadata": {
    "collapsed": false,
    "pycharm": {
     "name": "#%%\n"
    }
   }
  }
 ],
 "metadata": {
  "kernelspec": {
   "display_name": "Python 3",
   "language": "python",
   "name": "python3"
  },
  "language_info": {
   "codemirror_mode": {
    "name": "ipython",
    "version": 2
   },
   "file_extension": ".py",
   "mimetype": "text/x-python",
   "name": "python",
   "nbconvert_exporter": "python",
   "pygments_lexer": "ipython2",
   "version": "2.7.6"
  }
 },
 "nbformat": 4,
 "nbformat_minor": 0
}